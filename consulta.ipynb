{
 "cells": [
  {
   "cell_type": "code",
   "execution_count": 1,
   "metadata": {},
   "outputs": [
    {
     "name": "stdout",
     "output_type": "stream",
     "text": [
      "Datos de población: [{'TIME_PERIOD': '1910', 'OBS_VALUE': '15160369.00000000000000000000', 'OBS_EXCEPTION': None, 'OBS_STATUS': '3', 'OBS_SOURCE': '', 'OBS_NOTE': '', 'COBER_GEO': '0700'}, {'TIME_PERIOD': '1921', 'OBS_VALUE': '14334780.00000000000000000000', 'OBS_EXCEPTION': None, 'OBS_STATUS': '3', 'OBS_SOURCE': '', 'OBS_NOTE': '', 'COBER_GEO': '0700'}, {'TIME_PERIOD': '1930', 'OBS_VALUE': '16552722.00000000000000000000', 'OBS_EXCEPTION': None, 'OBS_STATUS': '3', 'OBS_SOURCE': '', 'OBS_NOTE': '', 'COBER_GEO': '0700'}, {'TIME_PERIOD': '1940', 'OBS_VALUE': '19653552.00000000000000000000', 'OBS_EXCEPTION': None, 'OBS_STATUS': '3', 'OBS_SOURCE': '', 'OBS_NOTE': '', 'COBER_GEO': '0700'}, {'TIME_PERIOD': '1950', 'OBS_VALUE': '25791017.00000000000000000000', 'OBS_EXCEPTION': None, 'OBS_STATUS': '3', 'OBS_SOURCE': '', 'OBS_NOTE': '', 'COBER_GEO': '0700'}, {'TIME_PERIOD': '1960', 'OBS_VALUE': '34923129.00000000000000000000', 'OBS_EXCEPTION': None, 'OBS_STATUS': '3', 'OBS_SOURCE': '', 'OBS_NOTE': '', 'COBER_GEO': '0700'}, {'TIME_PERIOD': '1970', 'OBS_VALUE': '48225238.00000000000000000000', 'OBS_EXCEPTION': None, 'OBS_STATUS': '3', 'OBS_SOURCE': '', 'OBS_NOTE': '', 'COBER_GEO': '0700'}, {'TIME_PERIOD': '1980', 'OBS_VALUE': '66846833.00000000000000000000', 'OBS_EXCEPTION': None, 'OBS_STATUS': '3', 'OBS_SOURCE': '', 'OBS_NOTE': '', 'COBER_GEO': '0700'}, {'TIME_PERIOD': '1990', 'OBS_VALUE': '81249645.00000000000000000000', 'OBS_EXCEPTION': None, 'OBS_STATUS': '3', 'OBS_SOURCE': '', 'OBS_NOTE': '', 'COBER_GEO': '0700'}, {'TIME_PERIOD': '1995', 'OBS_VALUE': '91158290.00000000000000000000', 'OBS_EXCEPTION': None, 'OBS_STATUS': '3', 'OBS_SOURCE': '', 'OBS_NOTE': '422,425', 'COBER_GEO': '0700'}, {'TIME_PERIOD': '2000', 'OBS_VALUE': '97483412.00000000000000000000', 'OBS_EXCEPTION': None, 'OBS_STATUS': '3', 'OBS_SOURCE': '', 'OBS_NOTE': '9,425', 'COBER_GEO': '0700'}, {'TIME_PERIOD': '2005', 'OBS_VALUE': '103263388.00000000000000000000', 'OBS_EXCEPTION': None, 'OBS_STATUS': '3', 'OBS_SOURCE': '', 'OBS_NOTE': '49,425', 'COBER_GEO': '0700'}, {'TIME_PERIOD': '2010', 'OBS_VALUE': '112336538.00000000000000000000', 'OBS_EXCEPTION': None, 'OBS_STATUS': '3', 'OBS_SOURCE': '', 'OBS_NOTE': '115,425', 'COBER_GEO': '0700'}, {'TIME_PERIOD': '2015', 'OBS_VALUE': '119938473.00000000000000000000', 'OBS_EXCEPTION': None, 'OBS_STATUS': '3', 'OBS_SOURCE': '', 'OBS_NOTE': '8230', 'COBER_GEO': '0700'}, {'TIME_PERIOD': '2020', 'OBS_VALUE': '126014024.00000000000000000000', 'OBS_EXCEPTION': None, 'OBS_STATUS': '3', 'OBS_SOURCE': '', 'OBS_NOTE': '', 'COBER_GEO': '0700'}]\n"
     ]
    }
   ],
   "source": [
    "import requests\n",
    "\n",
    "# Reemplaza 'YOUR_API_TOKEN' con tu token de acceso de INEGI\n",
    "api_token = '297e95d4-0431-7d3b-cc37-1d298c3e47b8'\n",
    "\n",
    "# URL base de la API del INEGI\n",
    "base_url = \"https://www.inegi.org.mx/app/api/indicadores/desarrolladores/jsonxml/INDICATOR/1002000001/es/00000/false/BISE/2.0/{token}?type=json\"\n",
    "\n",
    "# Construcción de la URL completa con el token\n",
    "url = base_url.format(token=api_token)\n",
    "\n",
    "# Realizar la solicitud GET a la API\n",
    "response = requests.get(url)\n",
    "\n",
    "# Verificar el estado de la respuesta y procesar los datos\n",
    "if response.status_code == 200:\n",
    "    data = response.json()\n",
    "    print(\"Datos de población:\", data.get(\"Series\")[0].get(\"OBSERVATIONS\"))\n",
    "else:\n",
    "    print(f\"Error {response.status_code}: {response.text}\")"
   ]
  }
 ],
 "metadata": {
  "kernelspec": {
   "display_name": "Python 3",
   "language": "python",
   "name": "python3"
  },
  "language_info": {
   "codemirror_mode": {
    "name": "ipython",
    "version": 3
   },
   "file_extension": ".py",
   "mimetype": "text/x-python",
   "name": "python",
   "nbconvert_exporter": "python",
   "pygments_lexer": "ipython3",
   "version": "3.11.4"
  }
 },
 "nbformat": 4,
 "nbformat_minor": 2
}
